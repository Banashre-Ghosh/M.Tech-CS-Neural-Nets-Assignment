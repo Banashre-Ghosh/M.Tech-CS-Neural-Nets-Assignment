{
  "nbformat": 4,
  "nbformat_minor": 0,
  "metadata": {
    "colab": {
      "name": "Perceptron2.ipynb",
      "provenance": []
    },
    "kernelspec": {
      "name": "python3",
      "display_name": "Python 3"
    },
    "language_info": {
      "name": "python"
    }
  },
  "cells": [
    {
      "cell_type": "code",
      "execution_count": 40,
      "metadata": {
        "colab": {
          "base_uri": "https://localhost:8080/"
        },
        "id": "gzXp3oZwQbZB",
        "outputId": "a2cd50ed-588b-40b6-9bc9-430ede626f27"
      },
      "outputs": [
        {
          "output_type": "stream",
          "name": "stdout",
          "text": [
            "Drive already mounted at /content/drive; to attempt to forcibly remount, call drive.mount(\"/content/drive\", force_remount=True).\n"
          ]
        }
      ],
      "source": [
        "from google.colab import drive\n",
        "drive.mount('/content/drive')"
      ]
    },
    {
      "cell_type": "code",
      "source": [
        "from sklearn import datasets\n",
        "import numpy as np\n",
        "import matplotlib.pyplot as plt\n",
        "%matplotlib inline\n",
        "\n",
        "np.random.seed(42)"
      ],
      "metadata": {
        "id": "Ev5T7m_ZSNbW"
      },
      "execution_count": 41,
      "outputs": []
    },
    {
      "cell_type": "code",
      "source": [
        "x, y = datasets.make_blobs(n_samples=500,n_features=2,\n",
        "                           centers=2,cluster_std=1.05,\n",
        "                           random_state=2)\n"
      ],
      "metadata": {
        "id": "ncuq6XBaSZDq"
      },
      "execution_count": 42,
      "outputs": []
    },
    {
      "cell_type": "code",
      "source": [
        "from sklearn.model_selection import train_test_split\n",
        "\n",
        "x_train, x_test, y_train, y_test = train_test_split(x,y,test_size=.2, random_state=42)"
      ],
      "metadata": {
        "id": "Y6U31K9AUFWZ"
      },
      "execution_count": 43,
      "outputs": []
    },
    {
      "cell_type": "code",
      "source": [
        "y_test"
      ],
      "metadata": {
        "colab": {
          "base_uri": "https://localhost:8080/"
        },
        "id": "E6VQoVtzUMWR",
        "outputId": "54115413-3cfd-4914-89bb-3c8bb1da8d83"
      },
      "execution_count": 44,
      "outputs": [
        {
          "output_type": "execute_result",
          "data": {
            "text/plain": [
              "array([0, 1, 1, 0, 0, 1, 0, 1, 1, 1, 0, 1, 1, 1, 0, 1, 1, 1, 0, 0, 0, 1,\n",
              "       0, 0, 1, 0, 1, 1, 0, 1, 1, 1, 0, 1, 1, 0, 1, 0, 0, 0, 1, 0, 1, 0,\n",
              "       0, 1, 0, 0, 0, 1, 0, 0, 0, 1, 0, 0, 0, 0, 0, 1, 0, 1, 1, 1, 1, 1,\n",
              "       0, 0, 0, 1, 0, 1, 1, 1, 1, 0, 1, 1, 1, 0, 0, 1, 1, 0, 0, 0, 1, 1,\n",
              "       1, 1, 0, 1, 0, 0, 0, 1, 1, 0, 0, 0])"
            ]
          },
          "metadata": {},
          "execution_count": 44
        }
      ]
    },
    {
      "cell_type": "code",
      "source": [
        "print(np.unique(y_train))"
      ],
      "metadata": {
        "colab": {
          "base_uri": "https://localhost:8080/"
        },
        "id": "L_LElvsqUOq1",
        "outputId": "9c122cd2-d52a-4d0b-8ed9-fab6ba73de48"
      },
      "execution_count": 45,
      "outputs": [
        {
          "output_type": "stream",
          "name": "stdout",
          "text": [
            "[0 1]\n"
          ]
        }
      ]
    },
    {
      "cell_type": "code",
      "source": [
        "print(x_train.shape,y_train.shape)"
      ],
      "metadata": {
        "colab": {
          "base_uri": "https://localhost:8080/"
        },
        "id": "lyIChwFzUTo6",
        "outputId": "61e74f97-6976-4875-c798-8f4987014379"
      },
      "execution_count": 46,
      "outputs": [
        {
          "output_type": "stream",
          "name": "stdout",
          "text": [
            "(400, 2) (400,)\n"
          ]
        }
      ]
    },
    {
      "cell_type": "code",
      "source": [
        "Feature1 = x[np.where(y==0)]\n",
        "Feature2 = x[np.where(y==1)]"
      ],
      "metadata": {
        "id": "gBeTtbQcUYl2"
      },
      "execution_count": 47,
      "outputs": []
    },
    {
      "cell_type": "code",
      "source": [
        "plt.scatter(Feature1[:,0], Feature1[:,1],  color='r', label='Feature1')\n",
        "plt.scatter(Feature2[:,0], Feature2[:,1], color='g', label='Feature2')\n",
        "plt.xlabel('Feature1')\n",
        "plt.ylabel('Feature2')\n",
        "plt.legend()\n"
      ],
      "metadata": {
        "colab": {
          "base_uri": "https://localhost:8080/",
          "height": 299
        },
        "id": "t26Uo8H-UxSz",
        "outputId": "e5333a0a-5cb8-43d4-bbd0-6a2cff71c5d4"
      },
      "execution_count": 48,
      "outputs": [
        {
          "output_type": "execute_result",
          "data": {
            "text/plain": [
              "<matplotlib.legend.Legend at 0x7f8e869bde90>"
            ]
          },
          "metadata": {},
          "execution_count": 48
        },
        {
          "output_type": "display_data",
          "data": {
            "text/plain": [
              "<Figure size 432x288 with 1 Axes>"
            ],
            "image/png": "[encoded data removed]"
          },
          "metadata": {
            "needs_background": "light"
          }
        }
      ]
    },
    {
      "cell_type": "code",
      "source": [
        "print(x.shape,y.shape)"
      ],
      "metadata": {
        "colab": {
          "base_uri": "https://localhost:8080/"
        },
        "id": "ylwHHPOWVNcR",
        "outputId": "5d0455a6-ee43-4372-812f-eb0f684862f2"
      },
      "execution_count": 49,
      "outputs": [
        {
          "output_type": "stream",
          "name": "stdout",
          "text": [
            "(500, 2) (500,)\n"
          ]
        }
      ]
    },
    {
      "cell_type": "code",
      "source": [
        "# Functions used for perceptron\n",
        "\n",
        "\n",
        "def step_function(t):\n",
        "  if t >= 0:\n",
        "    return 1\n",
        "  else:\n",
        "    return 0\n",
        "\n",
        "\n",
        "def prediction(x,w,b):\n",
        "  return step_function((np.dot(x,w)+b)[0])"
      ],
      "metadata": {
        "id": "hflvrlAgfwS5"
      },
      "execution_count": 53,
      "outputs": []
    },
    {
      "cell_type": "code",
      "source": [
        "# Weight updates\n",
        "\n",
        "def perceptron_step(x,y,w,b,learn_rate=0.01):\n",
        "  for (data,target) in zip(x,y):\n",
        "    y_hat=prediction(data,w,b)\n",
        "    error=target-y_hat\n",
        "    w[0] += (learn_rate * error * data[0])\n",
        "    w[1] += (learn_rate * error * data[1])\n",
        "    b += (learn_rate * error)\n",
        "\n",
        "  return w,b"
      ],
      "metadata": {
        "id": "4OaJarSMVTYm"
      },
      "execution_count": 54,
      "outputs": []
    },
    {
      "cell_type": "code",
      "source": [
        "from sklearn.utils.extmath import weighted_mode\n",
        "# Traing Data\n",
        "weights = []\n",
        "\n",
        "def train_perceptron_algorithm(x, y, learn_rate=0.01, num_epochs=100, weight=weights):\n",
        "  x_min, x_max = min(x.T[0]), max(x.T[0])\n",
        "  y_min, y_max = min(x.T[1]), max(x_train.T[1])\n",
        "\n",
        "  # initializing weight and bias\n",
        "  w = np.array(np.random.rand(2,1))\n",
        "  b = np.random.rand(1)[0] \n",
        "\n",
        "  # These are the solution lines that get plotted  below\n",
        "  boundary_lines = []\n",
        "  for i in range(num_epochs):\n",
        "    w,b = perceptron_step(x,y,w,b,learn_rate)\n",
        "    print(f'epoch {i}, w: {w}, b= {b}')\n",
        "    if i == 99:\n",
        "      weight += [w[0][0], w[1][0],b]\n",
        "    boundary_lines.append((-w[0]/w[1] , -b/w[1]))\n",
        "  \n",
        "  return boundary_lines"
      ],
      "metadata": {
        "id": "mZUS96FMVk2t"
      },
      "execution_count": 66,
      "outputs": []
    },
    {
      "cell_type": "code",
      "source": [
        "# Running Perceptron \n",
        "lr = 0.01\n",
        "no_epoch = 100\n",
        "boundary_lines = train_perceptron_algorithm(x_train, y_train, learn_rate = lr ,num_epochs = no_epoch)\n"
      ],
      "metadata": {
        "id": "Wi8AbzBuVw2T"
      },
      "execution_count": null,
      "outputs": []
    },
    {
      "cell_type": "code",
      "source": [
        "# Visualizing how classifier boundary shifted during during iterations i.e. wight learning \n",
        "# y = mx + c\n",
        "\n",
        "#from matplotlib.animation import FuncAnimation, PillowWriter\n",
        "\n",
        "x = np.arange(-10,10,1)\n",
        "\n",
        "fig,ax = plt.subplots()\n",
        "fig.set_tight_layout(True)\n",
        "\n",
        "## Plotting data for 0  and 1 label in color red and blue\n",
        "\n",
        "plt.scatter(Feature1[:,0],Feature1[:,1],color='r',label='Feature1')\n",
        "plt.scatter(Feature2[:,0],Feature2[:,1],color='g',label='Feature2')\n",
        "\n",
        "\n",
        "#Setting final classifier boundary line\n",
        "slope = boundary_lines[99][0][0]\n",
        "intercept = boundary_lines[99][1][0]\n",
        "\n",
        "line, = ax.plot(x, x*slope + intercept, color = 'black')"
      ],
      "metadata": {
        "colab": {
          "base_uri": "https://localhost:8080/",
          "height": 297
        },
        "id": "gB-lPJIFhUTV",
        "outputId": "77ade11a-36f1-4581-a81b-2d4675557470"
      },
      "execution_count": 69,
      "outputs": [
        {
          "output_type": "display_data",
          "data": {
            "text/plain": [
              "<Figure size 432x288 with 1 Axes>"
            ],
            "image/png": "[encoded data removed]"
          },
          "metadata": {
            "needs_background": "light"
          }
        }
      ]
    },
    {
      "cell_type": "code",
      "source": [
        " from matplotlib.animation import FuncAnimation, PillowWriter\n",
        "\n",
        " #aniamtion function\n",
        "def animate(i):\n",
        "    slope = boundary_lines[i][0][0]\n",
        "    intercept = boundary_lines[i][1][0]\n",
        "    line.set_ydata(x*slope + intercept)\n",
        "    label = f'Epoch: {i+1} \\n\\n Y = {round(slope, 3)}X + {round(intercept, 3)}'\n",
        "    ax.set_xlabel(label)\n",
        "    return line, ax\n",
        "\n",
        " #animating over 100 frames, with an interval of 200 ms between frames\n",
        "ani = FuncAnimation(fig, animate, frames=np.arange(0, no_epoch), interval=100)\n",
        " #save gif\n",
        "plt.show()\n",
        "ani.save('/content/drive/My Drive/perceptron_vis1.gif', dpi=100, writer='pillow')"
      ],
      "metadata": {
        "id": "OOxSBTtrpRCw"
      },
      "execution_count": 70,
      "outputs": []
    },
    {
      "cell_type": "code",
      "source": [
        "from IPython.display import HTML\n",
        "HTML('<img src=\"/content/drive/My Drive/perceptron_vis1.gif\">')"
      ],
      "metadata": {
        "colab": {
          "resources": {
            "http://localhost:8080/content/drive/My%20Drive/perceptron_vis1.gif": {
              "data": "CjwhRE9DVFlQRSBodG1sPgo8aHRtbCBsYW5nPWVuPgogIDxtZXRhIGNoYXJzZXQ9dXRmLTg+CiAgPG1ldGEgbmFtZT12aWV3cG9ydCBjb250ZW50PSJpbml0aWFsLXNjYWxlPTEsIG1pbmltdW0tc2NhbGU9MSwgd2lkdGg9ZGV2aWNlLXdpZHRoIj4KICA8dGl0bGU+RXJyb3IgNDA0IChOb3QgRm91bmQpISExPC90aXRsZT4KICA8c3R5bGU+CiAgICAqe21hcmdpbjowO3BhZGRpbmc6MH1odG1sLGNvZGV7Zm9udDoxNXB4LzIycHggYXJpYWwsc2Fucy1zZXJpZn1odG1se2JhY2tncm91bmQ6I2ZmZjtjb2xvcjojMjIyO3BhZGRpbmc6MTVweH1ib2R5e21hcmdpbjo3JSBhdXRvIDA7bWF4LXdpZHRoOjM5MHB4O21pbi1oZWlnaHQ6MTgwcHg7cGFkZGluZzozMHB4IDAgMTVweH0qID4gYm9keXtiYWNrZ3JvdW5kOnVybCgvL3d3dy5nb29nbGUuY29tL2ltYWdlcy9lcnJvcnMvcm9ib3QucG5nKSAxMDAlIDVweCBuby1yZXBlYXQ7cGFkZGluZy1yaWdodDoyMDVweH1we21hcmdpbjoxMXB4IDAgMjJweDtvdmVyZmxvdzpoaWRkZW59aW5ze2NvbG9yOiM3Nzc7dGV4dC1kZWNvcmF0aW9uOm5vbmV9YSBpbWd7Ym9yZGVyOjB9QG1lZGlhIHNjcmVlbiBhbmQgKG1heC13aWR0aDo3NzJweCl7Ym9keXtiYWNrZ3JvdW5kOm5vbmU7bWFyZ2luLXRvcDowO21heC13aWR0aDpub25lO3BhZGRpbmctcmlnaHQ6MH19I2xvZ297YmFja2dyb3VuZDp1cmwoLy93d3cuZ29vZ2xlLmNvbS9pbWFnZXMvbG9nb3MvZXJyb3JwYWdlL2Vycm9yX2xvZ28tMTUweDU0LnBuZykgbm8tcmVwZWF0O21hcmdpbi1sZWZ0Oi01cHh9QG1lZGlhIG9ubHkgc2NyZWVuIGFuZCAobWluLXJlc29sdXRpb246MTkyZHBpKXsjbG9nb3tiYWNrZ3JvdW5kOnVybCgvL3d3dy5nb29nbGUuY29tL2ltYWdlcy9sb2dvcy9lcnJvcnBhZ2UvZXJyb3JfbG9nby0xNTB4NTQtMngucG5nKSBuby1yZXBlYXQgMCUgMCUvMTAwJSAxMDAlOy1tb3otYm9yZGVyLWltYWdlOnVybCgvL3d3dy5nb29nbGUuY29tL2ltYWdlcy9sb2dvcy9lcnJvcnBhZ2UvZXJyb3JfbG9nby0xNTB4NTQtMngucG5nKSAwfX1AbWVkaWEgb25seSBzY3JlZW4gYW5kICgtd2Via2l0LW1pbi1kZXZpY2UtcGl4ZWwtcmF0aW86Mil7I2xvZ297YmFja2dyb3VuZDp1cmwoLy93d3cuZ29vZ2xlLmNvbS9pbWFnZXMvbG9nb3MvZXJyb3JwYWdlL2Vycm9yX2xvZ28tMTUweDU0LTJ4LnBuZykgbm8tcmVwZWF0Oy13ZWJraXQtYmFja2dyb3VuZC1zaXplOjEwMCUgMTAwJX19I2xvZ297ZGlzcGxheTppbmxpbmUtYmxvY2s7aGVpZ2h0OjU0cHg7d2lkdGg6MTUwcHh9CiAgPC9zdHlsZT4KICA8YSBocmVmPS8vd3d3Lmdvb2dsZS5jb20vPjxzcGFuIGlkPWxvZ28gYXJpYS1sYWJlbD1Hb29nbGU+PC9zcGFuPjwvYT4KICA8cD48Yj40MDQuPC9iPiA8aW5zPlRoYXTigJlzIGFuIGVycm9yLjwvaW5zPgogIDxwPiAgPGlucz5UaGF04oCZcyBhbGwgd2Uga25vdy48L2lucz4K",
              "ok": false,
              "headers": [
                [
                  "content-length",
                  "1449"
                ],
                [
                  "content-type",
                  "text/html; charset=utf-8"
                ]
              ],
              "status": 404,
              "status_text": ""
            }
          },
          "base_uri": "https://localhost:8080/",
          "height": 37
        },
        "id": "uZikTkVCpeiJ",
        "outputId": "6b3cc384-bef1-4890-95a8-0afcf48aa111"
      },
      "execution_count": 64,
      "outputs": [
        {
          "output_type": "execute_result",
          "data": {
            "text/plain": [
              "<IPython.core.display.HTML object>"
            ],
            "text/html": [
              "<img src=\"/content/drive/My Drive/perceptron_vis1.gif\">"
            ]
          },
          "metadata": {},
          "execution_count": 64
        }
      ]
    },
    {
      "cell_type": "markdown",
      "source": [
        "# Testing the model "
      ],
      "metadata": {
        "id": "LRMZShVspmtS"
      }
    },
    {
      "cell_type": "code",
      "source": [
        "x_test.shape"
      ],
      "metadata": {
        "colab": {
          "base_uri": "https://localhost:8080/"
        },
        "id": "5-pQl_32pvqz",
        "outputId": "4f69337d-0438-406b-af11-6c646826f444"
      },
      "execution_count": 71,
      "outputs": [
        {
          "output_type": "execute_result",
          "data": {
            "text/plain": [
              "(100, 2)"
            ]
          },
          "metadata": {},
          "execution_count": 71
        }
      ]
    },
    {
      "cell_type": "code",
      "source": [
        "def predict(weight, bias, test_data):\n",
        "  activation = test_data[0]*weights[0]+test_data[1]*weights[1] + weights[2]\n",
        "  return 1 if activation > 0 else 0\n",
        "\n",
        "y_pred = []\n",
        "w = boundary_lines[99][0][0]\n",
        "b = boundary_lines[99][0][0]\n",
        "for i in range(x_test.shape[0]):\n",
        "  y_pred.append(predict(w,b,x_test[i]))"
      ],
      "metadata": {
        "id": "RCQ9cugnq4Qp"
      },
      "execution_count": 72,
      "outputs": []
    },
    {
      "cell_type": "code",
      "source": [
        "from sklearn.metrics import confusion_matrix\n",
        "\n",
        "#Generate the confusion matrix\n",
        "cf_matrix = confusion_matrix(y_test, y_pred)\n",
        "\n",
        "print(cf_matrix)\n"
      ],
      "metadata": {
        "colab": {
          "base_uri": "https://localhost:8080/"
        },
        "id": "9Cuvp6g7rDRL",
        "outputId": "cf577b45-5866-49ab-f59f-697deb57dae9"
      },
      "execution_count": 73,
      "outputs": [
        {
          "output_type": "stream",
          "name": "stdout",
          "text": [
            "[[50  0]\n",
            " [ 1 49]]\n"
          ]
        }
      ]
    },
    {
      "cell_type": "code",
      "source": [
        "import seaborn as sns\n",
        "\n",
        "ax = sns.heatmap(cf_matrix, annot=True, cmap='Blues')\n",
        "\n",
        "ax.set_title('Seaborn Confusion Matrix\\n\\n');\n",
        "ax.set_xlabel('\\nPredicted Values')\n",
        "ax.set_ylabel('Actual Values ');\n",
        "\n",
        "## Ticket labels - List must be in alphabetical order\n",
        "ax.xaxis.set_ticklabels(['False','True'])\n",
        "ax.yaxis.set_ticklabels(['False','True'])\n",
        "\n",
        "## Display the visualization of the Confusion Matrix.\n",
        "plt.show()"
      ],
      "metadata": {
        "colab": {
          "base_uri": "https://localhost:8080/",
          "height": 337
        },
        "id": "Pr3K0de8rMW_",
        "outputId": "e2af40b1-5166-4011-dcc0-6ee1b33aa1d6"
      },
      "execution_count": 74,
      "outputs": [
        {
          "output_type": "display_data",
          "data": {
            "text/plain": [
              "<Figure size 432x288 with 2 Axes>"
            ],
            "image/png": "[encoded data removed]"
          },
          "metadata": {
            "needs_background": "light"
          }
        }
      ]
    },
    {
      "cell_type": "code",
      "source": [
        ""
      ],
      "metadata": {
        "id": "1lTCDXTrrU8r"
      },
      "execution_count": null,
      "outputs": []
    },
    {
      "cell_type": "code",
      "source": [
        "from sklearn.metrics import f1_score,accuracy_score,recall_score,precision_score\n",
        "\n",
        "print(\"f1_Score :\",f1_score(y_test,y_pred))\n",
        "print(\"Accuracy_Score :\",accuracy_score(y_test,y_pred))\n",
        "print(\"Recall_Score :\",recall_score(y_test,y_pred))\n",
        "print(\"Precision_Score :\",precision_score(y_test,y_pred))"
      ],
      "metadata": {
        "colab": {
          "base_uri": "https://localhost:8080/"
        },
        "id": "Cj6sUozPrg6L",
        "outputId": "9a7c0cce-b67b-4524-facc-5172cb82f4b2"
      },
      "execution_count": 75,
      "outputs": [
        {
          "output_type": "stream",
          "name": "stdout",
          "text": [
            "f1_Score : 0.98989898989899\n",
            "Accuracy_Score : 0.99\n",
            "Recall_Score : 0.98\n",
            "Precision_Score : 1.0\n"
          ]
        }
      ]
    }
  ]
}