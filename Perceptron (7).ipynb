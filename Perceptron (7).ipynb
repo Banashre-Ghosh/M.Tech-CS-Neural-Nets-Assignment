{
  "nbformat": 4,
  "nbformat_minor": 0,
  "metadata": {
    "colab": {
      "name": "Perceptron.ipynb",
      "provenance": [],
      "collapsed_sections": []
    },
    "kernelspec": {
      "name": "python3",
      "display_name": "Python 3"
    },
    "language_info": {
      "name": "python"
    }
  },
  "cells": [
    {
      "cell_type": "code",
      "source": [
        "from google.colab import drive\n",
        "drive.mount('/content/drive')"
      ],
      "metadata": {
        "colab": {
          "base_uri": "https://localhost:8080/"
        },
        "id": "El92V_4m4oCG",
        "outputId": "17b63d63-76ef-4674-99d6-ac5846ee5f2b"
      },
      "execution_count": 1,
      "outputs": [
        {
          "output_type": "stream",
          "name": "stdout",
          "text": [
            "Drive already mounted at /content/drive; to attempt to forcibly remount, call drive.mount(\"/content/drive\", force_remount=True).\n"
          ]
        }
      ]
    },
    {
      "cell_type": "code",
      "execution_count": 2,
      "metadata": {
        "id": "onZ6o0ckX__k"
      },
      "outputs": [],
      "source": [
        "from sklearn.datasets import load_iris\n",
        "import numpy as np\n",
        "import matplotlib.pyplot as plt\n",
        "%matplotlib inline\n",
        "\n",
        "np.random.seed(42)"
      ]
    },
    {
      "cell_type": "code",
      "source": [
        "iris=load_iris()\n",
        "print(iris.feature_names)"
      ],
      "metadata": {
        "colab": {
          "base_uri": "https://localhost:8080/"
        },
        "id": "6UcwVN0kZPTl",
        "outputId": "d8da43e5-3d4c-4cd1-9b3a-21b3a9f63f70"
      },
      "execution_count": 3,
      "outputs": [
        {
          "output_type": "stream",
          "name": "stdout",
          "text": [
            "['sepal length (cm)', 'sepal width (cm)', 'petal length (cm)', 'petal width (cm)']\n"
          ]
        }
      ]
    },
    {
      "cell_type": "code",
      "source": [
        "x=iris.data\n",
        "y=iris.target\n",
        "print(x.shape,y.shape)"
      ],
      "metadata": {
        "colab": {
          "base_uri": "https://localhost:8080/"
        },
        "id": "Orh96FERZyZF",
        "outputId": "0761f7ef-ec40-4c3c-ffdf-2efd234a1b3e"
      },
      "execution_count": 4,
      "outputs": [
        {
          "output_type": "stream",
          "name": "stdout",
          "text": [
            "(150, 4) (150,)\n"
          ]
        }
      ]
    },
    {
      "cell_type": "code",
      "source": [
        "print(iris.target_names)"
      ],
      "metadata": {
        "colab": {
          "base_uri": "https://localhost:8080/"
        },
        "id": "nmeGoBNjZhfi",
        "outputId": "d2b0a17b-1ea2-4e70-9d16-f85f25ea7fd6"
      },
      "execution_count": 5,
      "outputs": [
        {
          "output_type": "stream",
          "name": "stdout",
          "text": [
            "['setosa' 'versicolor' 'virginica']\n"
          ]
        }
      ]
    },
    {
      "cell_type": "code",
      "source": [
        "y.shape"
      ],
      "metadata": {
        "colab": {
          "base_uri": "https://localhost:8080/"
        },
        "id": "QZLw-CkCbaCT",
        "outputId": "8bef18d9-8efb-4ed1-a605-0f37b65914b2"
      },
      "execution_count": 6,
      "outputs": [
        {
          "output_type": "execute_result",
          "data": {
            "text/plain": [
              "(150,)"
            ]
          },
          "metadata": {},
          "execution_count": 6
        }
      ]
    },
    {
      "cell_type": "code",
      "source": [
        "mask = np.where((y==0)|(y==1))\n",
        "x=x[mask][:,[0,2]]\n",
        "y=y[mask]"
      ],
      "metadata": {
        "id": "rsxfXG4Ndyal"
      },
      "execution_count": 7,
      "outputs": []
    },
    {
      "cell_type": "code",
      "source": [
        "from sklearn.model_selection import train_test_split\n",
        "\n",
        "x_train, x_test, y_train, y_test = train_test_split(x,y,test_size=.2, random_state=42)"
      ],
      "metadata": {
        "id": "WovsmziTIOQO"
      },
      "execution_count": 8,
      "outputs": []
    },
    {
      "cell_type": "code",
      "source": [
        "y_test"
      ],
      "metadata": {
        "colab": {
          "base_uri": "https://localhost:8080/"
        },
        "id": "GgjW0S_vJnWu",
        "outputId": "562107da-bf9a-4e7c-e9ef-13d1e35a33e6"
      },
      "execution_count": 9,
      "outputs": [
        {
          "output_type": "execute_result",
          "data": {
            "text/plain": [
              "array([1, 1, 1, 0, 0, 0, 0, 1, 0, 0, 0, 0, 1, 0, 1, 0, 1, 1, 0, 0])"
            ]
          },
          "metadata": {},
          "execution_count": 9
        }
      ]
    },
    {
      "cell_type": "code",
      "source": [
        "print(np.unique(y_train))"
      ],
      "metadata": {
        "colab": {
          "base_uri": "https://localhost:8080/"
        },
        "id": "2OoxLyI4ffT8",
        "outputId": "a0e57924-0635-4814-833a-f8e297dcc02d"
      },
      "execution_count": 10,
      "outputs": [
        {
          "output_type": "stream",
          "name": "stdout",
          "text": [
            "[0 1]\n"
          ]
        }
      ]
    },
    {
      "cell_type": "code",
      "source": [
        "print(x_train.shape,y_train.shape)"
      ],
      "metadata": {
        "colab": {
          "base_uri": "https://localhost:8080/"
        },
        "id": "S1OHhVgOgSZP",
        "outputId": "d939b87c-3ebb-4b41-deef-b060e1608763"
      },
      "execution_count": 11,
      "outputs": [
        {
          "output_type": "stream",
          "name": "stdout",
          "text": [
            "(80, 2) (80,)\n"
          ]
        }
      ]
    },
    {
      "cell_type": "code",
      "source": [
        "setosas=x[np.where(y==0)]\n",
        "versicolors=x[np.where(y==1)]"
      ],
      "metadata": {
        "id": "1oAVDDkbgaz3"
      },
      "execution_count": 12,
      "outputs": []
    },
    {
      "cell_type": "code",
      "source": [
        "plt.scatter(setosas[:,0],setosas[:,1],color='r',label='setosa')\n",
        "plt.scatter(versicolors[:,0],versicolors[:,1],color='g',label='versicolor')\n",
        "plt.xlabel('sepal length')\n",
        "plt.ylabel('petal length')\n",
        "plt.legend()\n",
        "\n"
      ],
      "metadata": {
        "colab": {
          "base_uri": "https://localhost:8080/",
          "height": 297
        },
        "id": "oji_YWe_hH24",
        "outputId": "feb16e63-8dc3-406a-d34f-0a738a416c7e"
      },
      "execution_count": 13,
      "outputs": [
        {
          "output_type": "execute_result",
          "data": {
            "text/plain": [
              "<matplotlib.legend.Legend at 0x7ff24b43dfd0>"
            ]
          },
          "metadata": {},
          "execution_count": 13
        },
        {
          "output_type": "display_data",
          "data": {
            "text/plain": [
              "<Figure size 432x288 with 1 Axes>"
            ],
            "image/png": "[encoded data removed]"
          },
          "metadata": {
            "needs_background": "light"
          }
        }
      ]
    },
    {
      "cell_type": "code",
      "source": [
        "print(x.shape,y.shape)"
      ],
      "metadata": {
        "id": "-UguZq7HjUIp",
        "colab": {
          "base_uri": "https://localhost:8080/"
        },
        "outputId": "8939f721-258b-4c95-9242-818a8a986893"
      },
      "execution_count": 14,
      "outputs": [
        {
          "output_type": "stream",
          "name": "stdout",
          "text": [
            "(100, 2) (100,)\n"
          ]
        }
      ]
    },
    {
      "cell_type": "code",
      "source": [
        "# Functions used for perceptron\n",
        "\n",
        "\n",
        "def step_function(t):\n",
        "  if t >= 0:\n",
        "    return 1\n",
        "  else:\n",
        "    return 0\n",
        "\n",
        "\n",
        "def prediction(x,w,b):\n",
        "  return step_function((np.dot(x,w)+b)[0])\n",
        "\n"
      ],
      "metadata": {
        "id": "T6sVg_LLuy-L"
      },
      "execution_count": 15,
      "outputs": []
    },
    {
      "cell_type": "code",
      "source": [
        "# Weight updates\n",
        "\n",
        "def perceptron_step(x,y,w,b,learn_rate=0.01):\n",
        "  for (data,target) in zip(x,y):\n",
        "    y_hat=prediction(data,w,b)\n",
        "    error=target-y_hat\n",
        "    w[0] += (learn_rate * error * data[0])\n",
        "    w[1] += (learn_rate * error * data[1])\n",
        "    b += (learn_rate * error)\n",
        "\n",
        "  return w,b\n",
        "\n"
      ],
      "metadata": {
        "id": "Pk2tBXooPBIM"
      },
      "execution_count": 16,
      "outputs": []
    },
    {
      "cell_type": "code",
      "source": [
        "from sklearn.utils.extmath import weighted_mode\n",
        "# Traing Data\n",
        "weights = []\n",
        "\n",
        "def train_perceptron_algorithm(x, y, learn_rate=0.01, num_epochs=100, weight=weights):\n",
        "  x_min, x_max = min(x.T[0]), max(x.T[0])\n",
        "  y_min, y_max = min(x.T[1]), max(x_train.T[1])\n",
        "\n",
        "  # initializing weight and bias\n",
        "  w = np.array(np.random.rand(2,1))\n",
        "  b = np.random.rand(1)[0] + x_max\n",
        "\n",
        "  # These are the solution lines that get plotted  below\n",
        "  boundary_lines = []\n",
        "  for i in range(num_epochs):\n",
        "    w,b = perceptron_step(x,y,w,b,learn_rate)\n",
        "    print(f'epoch {i}, w: {w}, b= {b}')\n",
        "    if i == 99:\n",
        "      weight += [w[0][0],w[1][0],b]\n",
        "    boundary_lines.append((-w[0]/w[1], -b/w[1]))\n",
        "  \n",
        "  return boundary_lines"
      ],
      "metadata": {
        "id": "TRCz0wAjPBi7"
      },
      "execution_count": 17,
      "outputs": []
    },
    {
      "cell_type": "code",
      "source": [
        " # Running Perceptron \n",
        "lr = 0.01\n",
        "no_epoch = 100\n",
        "boundary_lines = train_perceptron_algorithm(x_train, y_train, learn_rate = lr ,num_epochs = no_epoch)\n"
      ],
      "metadata": {
        "id": "y0BLw-5JrQT_"
      },
      "execution_count": null,
      "outputs": []
    },
    {
      "cell_type": "code",
      "source": [
        "len(weights)"
      ],
      "metadata": {
        "colab": {
          "base_uri": "https://localhost:8080/"
        },
        "id": "ZhZ_sAZ8cCp9",
        "outputId": "036c59a3-c9b1-4b47-84a9-47d81c5eb73a"
      },
      "execution_count": 19,
      "outputs": [
        {
          "output_type": "execute_result",
          "data": {
            "text/plain": [
              "3"
            ]
          },
          "metadata": {},
          "execution_count": 19
        }
      ]
    },
    {
      "cell_type": "code",
      "source": [
        "# Visualizing how classifier boundary shifted during during iterations i.e. wight learning \n",
        "# y = mx + c\n",
        "\n",
        "#from matplotlib.animation import FuncAnimation, PillowWriter\n",
        "\n",
        "x = np.arange(1,10,1)\n",
        "\n",
        "fig,ax = plt.subplots()\n",
        "fig.set_tight_layout(True)\n",
        "\n",
        "## Plotting data for 0  and 1 label in color red and blue\n",
        "\n",
        "plt.scatter(setosas[:,0],setosas[:,1],color='r',label='setosa')\n",
        "plt.scatter(versicolors[:,0],versicolors[:,1],color='g',label='versicolors')\n",
        "\n",
        "\n",
        "#Setting final classifier boundary line\n",
        "slope = boundary_lines[99][0][0]\n",
        "intercept = boundary_lines[99][1][0]\n",
        "\n",
        "line, = ax.plot(x, x*slope + intercept, color = 'black')"
      ],
      "metadata": {
        "colab": {
          "base_uri": "https://localhost:8080/",
          "height": 297
        },
        "id": "ggdQYSe3vXKq",
        "outputId": "bd2bf364-254d-42f1-af40-f33735a6d796"
      },
      "execution_count": 20,
      "outputs": [
        {
          "output_type": "display_data",
          "data": {
            "text/plain": [
              "<Figure size 432x288 with 1 Axes>"
            ],
            "image/png": "[encoded data removed]"
          },
          "metadata": {
            "needs_background": "light"
          }
        }
      ]
    },
    {
      "cell_type": "code",
      "source": [
        " from matplotlib.animation import FuncAnimation, PillowWriter\n",
        "\n",
        " #aniamtion function\n",
        "def animate(i):\n",
        "    slope = boundary_lines[i][0][0]\n",
        "    intercept = boundary_lines[i][1][0]\n",
        "    line.set_ydata(x*slope + intercept)\n",
        "    label = f'Epoch: {i+1} \\n\\n Y = {round(slope, 3)}X + {round(intercept, 3)}'\n",
        "    ax.set_xlabel(label)\n",
        "    return line, ax\n",
        "\n",
        " #animating over 100 frames, with an interval of 200 ms between frames\n",
        "ani = FuncAnimation(fig, animate, frames=np.arange(0, no_epoch), interval=100)\n",
        " #save gif\n",
        "plt.show()\n",
        "ani.save('/content/drive/My Drive/perceptron_vis0.gif', dpi=100, writer='pillow')"
      ],
      "metadata": {
        "id": "xAWii1iu5YfS"
      },
      "execution_count": 21,
      "outputs": []
    },
    {
      "cell_type": "code",
      "source": [
        "from IPython.display import HTML\n",
        "HTML('<img src=\"/content/drive/My Drive/perceptron_vis0.gif\">')"
      ],
      "metadata": {
        "colab": {
          "resources": {
            "http://localhost:8080/content/drive/My%20Drive/perceptron_vis0.gif": {
              "data": "CjwhRE9DVFlQRSBodG1sPgo8aHRtbCBsYW5nPWVuPgogIDxtZXRhIGNoYXJzZXQ9dXRmLTg+CiAgPG1ldGEgbmFtZT12aWV3cG9ydCBjb250ZW50PSJpbml0aWFsLXNjYWxlPTEsIG1pbmltdW0tc2NhbGU9MSwgd2lkdGg9ZGV2aWNlLXdpZHRoIj4KICA8dGl0bGU+RXJyb3IgNDA0IChOb3QgRm91bmQpISExPC90aXRsZT4KICA8c3R5bGU+CiAgICAqe21hcmdpbjowO3BhZGRpbmc6MH1odG1sLGNvZGV7Zm9udDoxNXB4LzIycHggYXJpYWwsc2Fucy1zZXJpZn1odG1se2JhY2tncm91bmQ6I2ZmZjtjb2xvcjojMjIyO3BhZGRpbmc6MTVweH1ib2R5e21hcmdpbjo3JSBhdXRvIDA7bWF4LXdpZHRoOjM5MHB4O21pbi1oZWlnaHQ6MTgwcHg7cGFkZGluZzozMHB4IDAgMTVweH0qID4gYm9keXtiYWNrZ3JvdW5kOnVybCgvL3d3dy5nb29nbGUuY29tL2ltYWdlcy9lcnJvcnMvcm9ib3QucG5nKSAxMDAlIDVweCBuby1yZXBlYXQ7cGFkZGluZy1yaWdodDoyMDVweH1we21hcmdpbjoxMXB4IDAgMjJweDtvdmVyZmxvdzpoaWRkZW59aW5ze2NvbG9yOiM3Nzc7dGV4dC1kZWNvcmF0aW9uOm5vbmV9YSBpbWd7Ym9yZGVyOjB9QG1lZGlhIHNjcmVlbiBhbmQgKG1heC13aWR0aDo3NzJweCl7Ym9keXtiYWNrZ3JvdW5kOm5vbmU7bWFyZ2luLXRvcDowO21heC13aWR0aDpub25lO3BhZGRpbmctcmlnaHQ6MH19I2xvZ297YmFja2dyb3VuZDp1cmwoLy93d3cuZ29vZ2xlLmNvbS9pbWFnZXMvbG9nb3MvZXJyb3JwYWdlL2Vycm9yX2xvZ28tMTUweDU0LnBuZykgbm8tcmVwZWF0O21hcmdpbi1sZWZ0Oi01cHh9QG1lZGlhIG9ubHkgc2NyZWVuIGFuZCAobWluLXJlc29sdXRpb246MTkyZHBpKXsjbG9nb3tiYWNrZ3JvdW5kOnVybCgvL3d3dy5nb29nbGUuY29tL2ltYWdlcy9sb2dvcy9lcnJvcnBhZ2UvZXJyb3JfbG9nby0xNTB4NTQtMngucG5nKSBuby1yZXBlYXQgMCUgMCUvMTAwJSAxMDAlOy1tb3otYm9yZGVyLWltYWdlOnVybCgvL3d3dy5nb29nbGUuY29tL2ltYWdlcy9sb2dvcy9lcnJvcnBhZ2UvZXJyb3JfbG9nby0xNTB4NTQtMngucG5nKSAwfX1AbWVkaWEgb25seSBzY3JlZW4gYW5kICgtd2Via2l0LW1pbi1kZXZpY2UtcGl4ZWwtcmF0aW86Mil7I2xvZ297YmFja2dyb3VuZDp1cmwoLy93d3cuZ29vZ2xlLmNvbS9pbWFnZXMvbG9nb3MvZXJyb3JwYWdlL2Vycm9yX2xvZ28tMTUweDU0LTJ4LnBuZykgbm8tcmVwZWF0Oy13ZWJraXQtYmFja2dyb3VuZC1zaXplOjEwMCUgMTAwJX19I2xvZ297ZGlzcGxheTppbmxpbmUtYmxvY2s7aGVpZ2h0OjU0cHg7d2lkdGg6MTUwcHh9CiAgPC9zdHlsZT4KICA8YSBocmVmPS8vd3d3Lmdvb2dsZS5jb20vPjxzcGFuIGlkPWxvZ28gYXJpYS1sYWJlbD1Hb29nbGU+PC9zcGFuPjwvYT4KICA8cD48Yj40MDQuPC9iPiA8aW5zPlRoYXTigJlzIGFuIGVycm9yLjwvaW5zPgogIDxwPiAgPGlucz5UaGF04oCZcyBhbGwgd2Uga25vdy48L2lucz4K",
              "ok": false,
              "headers": [
                [
                  "content-length",
                  "1449"
                ],
                [
                  "content-type",
                  "text/html; charset=utf-8"
                ]
              ],
              "status": 404,
              "status_text": ""
            }
          },
          "base_uri": "https://localhost:8080/",
          "height": 37
        },
        "id": "BDZYVUFF8eaz",
        "outputId": "a92c9b1e-57ac-4eba-c2aa-7309bf68f146"
      },
      "execution_count": 22,
      "outputs": [
        {
          "output_type": "execute_result",
          "data": {
            "text/plain": [
              "<IPython.core.display.HTML object>"
            ],
            "text/html": [
              "<img src=\"/content/drive/My Drive/perceptron_vis0.gif\">"
            ]
          },
          "metadata": {},
          "execution_count": 22
        }
      ]
    },
    {
      "cell_type": "markdown",
      "source": [
        "# Testing the model"
      ],
      "metadata": {
        "id": "Bqpu55Dm6z4P"
      }
    },
    {
      "cell_type": "code",
      "source": [
        "x_test.shape"
      ],
      "metadata": {
        "colab": {
          "base_uri": "https://localhost:8080/"
        },
        "id": "m25qDnhUWZhA",
        "outputId": "867ae40d-5d39-4f89-a8b7-5f1336c90ab3"
      },
      "execution_count": 23,
      "outputs": [
        {
          "output_type": "execute_result",
          "data": {
            "text/plain": [
              "(20, 2)"
            ]
          },
          "metadata": {},
          "execution_count": 23
        }
      ]
    },
    {
      "cell_type": "code",
      "source": [
        "def predict(weight, bias, test_data):\n",
        "  activation = test_data[0]*weights[0]+test_data[1]*weights[1] + weights[2]\n",
        "  return 1 if activation > 0 else 0\n",
        "\n",
        "y_pred = []\n",
        "w = boundary_lines[99][0][0]\n",
        "b = boundary_lines[99][0][0]\n",
        "for i in range(x_test.shape[0]):\n",
        "  y_pred.append(predict(w,b,x_test[i]))"
      ],
      "metadata": {
        "id": "FzvkPJL4NGd7"
      },
      "execution_count": 24,
      "outputs": []
    },
    {
      "cell_type": "code",
      "source": [
        "from sklearn.metrics import confusion_matrix\n",
        "\n",
        "#Generate the confusion matrix\n",
        "cf_matrix = confusion_matrix(y_test, y_pred)\n",
        "\n",
        "print(cf_matrix)\n"
      ],
      "metadata": {
        "colab": {
          "base_uri": "https://localhost:8080/"
        },
        "id": "_brVqKpWGRGH",
        "outputId": "a7c1be4b-784c-4e2c-bad8-93590e4d350e"
      },
      "execution_count": 25,
      "outputs": [
        {
          "output_type": "stream",
          "name": "stdout",
          "text": [
            "[[12  0]\n",
            " [ 0  8]]\n"
          ]
        }
      ]
    },
    {
      "cell_type": "code",
      "source": [
        "import seaborn as sns\n",
        "\n",
        "ax = sns.heatmap(cf_matrix, annot=True, cmap='Blues')\n",
        "\n",
        "ax.set_title('Seaborn Confusion Matrix\\n\\n');\n",
        "ax.set_xlabel('\\nPredicted Values')\n",
        "ax.set_ylabel('Actual Values ');\n",
        "\n",
        "## Ticket labels - List must be in alphabetical order\n",
        "ax.xaxis.set_ticklabels(['False','True'])\n",
        "ax.yaxis.set_ticklabels(['False','True'])\n",
        "\n",
        "## Display the visualization of the Confusion Matrix.\n",
        "plt.show()"
      ],
      "metadata": {
        "id": "9cUP7-tWkaCh"
      },
      "execution_count": null,
      "outputs": []
    },
    {
      "cell_type": "code",
      "source": [
        "from sklearn.metrics import f1_score,accuracy_score,recall_score,precision_score\n",
        "\n",
        "print(\"f1_Score :\",f1_score(y_test,y_pred))\n",
        "print(\"Accuracy_Score :\",accuracy_score(y_test,y_pred))\n",
        "print(\"Recall_Score :\",recall_score(y_test,y_pred))\n",
        "print(\"Precision_Score :\",precision_score(y_test,y_pred))"
      ],
      "metadata": {
        "colab": {
          "base_uri": "https://localhost:8080/"
        },
        "id": "TtI1nozbBAM_",
        "outputId": "ac79ae45-3778-4633-819a-0226684bc98e"
      },
      "execution_count": 29,
      "outputs": [
        {
          "output_type": "stream",
          "name": "stdout",
          "text": [
            "f1_Score : 1.0\n",
            "Accuracy_Score : 1.0\n",
            "Recall_Score : 1.0\n",
            "Precision_Score : 1.0\n"
          ]
        }
      ]
    }
  ]
}